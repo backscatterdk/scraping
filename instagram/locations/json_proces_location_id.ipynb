import pandas as pd
import lzma
import os
import json
import numpy as np  # Import NumPy


folder_paths = ['paths']

def extract_fields_from_json(json_data):
    try:
        # Extract the specific fields you need
        node_data = {
            "Shortcode": json_data["node"]["shortcode"],
            "ID": json_data["node"]["id"],
            "__Typename": json_data["node"]["__typename"],
            "Date": json_data["node"].get("date"),  # Use .get() to handle missing key gracefully
            "Caption": json_data["node"]["caption"],
            "Like Counts": json_data["node"]["edge_media_preview_like"]["count"], 
            #"count": json_data["node"]["location"]["facebook_places_id"],

            "Comment_count": json_data["node"].get("edge_media_to_comment", {}).get("count"),
            "Iphone_struct": json_data["node"]["iphone_struct"]['location'],
           
            
            
        }
              # Extract location details from 'iphone_struct' ˇif it exists
        iphone_struct = json_data["node"]["iphone_struct"]
        location_info = iphone_struct.get("location")
        if location_info:
            node_data["Location_name"] = location_info.get("name")
            node_data["Location_address"] = location_info.get("address")
            node_data["Location_city"] = location_info.get("city")
            node_data["Location_ID"]= location_info.get("pk")
            node_data["Longtitude"] = location_info.get("lng")
            node_data["Latitude"] = location_info.get("lat")
            
        try:
            node_data["timestamp"] = pd.to_datetime(node_data["date"], unit="s").strftime('%Y-%m-%d %H:%M:%S')
        except (KeyError, ValueError):
            node_data["timestamp"] = np.nan  # Set timestamp to NaN
       
        return node_data
    except Exception as e:
        print(f"Error extracting fields from JSON data: {str(e)}")
        return None

def read_json_xz_to_dataframe(file_path):
    try:
        # Open the compressed JSON file
        with lzma.open(file_path, 'rb') as compressed_file:
            # Read and decode the JSON data
            json_data = json.loads(compressed_file.read().decode('utf-8'))
            
            # Extract the fields
            extracted_data = extract_fields_from_json(json_data)
            
            return extracted_data
    except Exception as e:
        print(f"Error reading JSON file: {str(e)}")
        return None

# List to store extracted data
extracted_data_list = []

# Iterate over folder paths
for folder_path in folder_paths:
    # Iterate over files in the folder
    for filename in os.listdir(folder_path):
        if filename.endswith('.json.xz'):
            file_path = os.path.join(folder_path, filename)
            extracted_data = read_json_xz_to_dataframe(file_path)
            if extracted_data is not None:
                extracted_data_list.append(extracted_data)
                

# Create a DataFrame from the extracted data
if extracted_data_list:
    df = pd.DataFrame(extracted_data_list)
else:
    print("No valid data found in the folders.")

print(len(df))
df
